{
 "cells": [
  {
   "cell_type": "markdown",
   "id": "2d9ee32f",
   "metadata": {},
   "source": [
    "# Dataset insights"
   ]
  },
  {
   "cell_type": "code",
   "execution_count": null,
   "id": "6a506d86",
   "metadata": {},
   "outputs": [],
   "source": [
    "import json\n",
    "import numpy as np"
   ]
  },
  {
   "cell_type": "markdown",
   "id": "63ebf509",
   "metadata": {},
   "source": [
    "## Getting Datasets Infos to compare with SQuAD v2.0"
   ]
  },
  {
   "cell_type": "code",
   "execution_count": null,
   "id": "a05461dd",
   "metadata": {},
   "outputs": [],
   "source": [
    "import pandas as pd\n",
    "\n",
    "ADDITION = \"-na\"\n",
    "NAME = \"crawl\""
   ]
  },
  {
   "cell_type": "code",
   "execution_count": null,
   "id": "f53a02c3",
   "metadata": {},
   "outputs": [],
   "source": [
    "%%time\n",
    "train_path = f\"{NAME}{ADDITION}/{NAME}{ADDITION}-train.jsonl\"\n",
    "val_path = f\"{NAME}{ADDITION}/{NAME}{ADDITION}-val.jsonl\"\n",
    "test_path = f\"{NAME}{ADDITION}/{NAME}{ADDITION}-test.jsonl\"\n",
    "\n",
    "train = pd.read_json(path_or_buf=train_path, lines=True)\n",
    "val = pd.read_json(path_or_buf=val_path, lines=True)\n",
    "test = pd.read_json(path_or_buf=test_path, lines=True)\n",
    "\n",
    "print(\"Total instances\")\n",
    "print(\"---------------\")\n",
    "print(\"Train:\" , train.shape)\n",
    "print(\"Val:\", val.shape)\n",
    "print(\"Test:\", test.shape)\n",
    "print()\n",
    "\n",
    "train[\"answer_start\"] = train.apply(lambda row: row.answers[\"answer_start\"][0], axis=1)\n",
    "train_na = train[train.answer_start == -1]\n",
    "\n",
    "val[\"answer_start\"] = val.apply(lambda row: row.answers[\"answer_start\"][0], axis=1)\n",
    "val_na = val[val.answer_start == -1]\n",
    "\n",
    "test[\"answer_start\"] = test.apply(lambda row: row.answers[\"answer_start\"][0], axis=1)\n",
    "test_na = test[test.answer_start == -1]\n",
    "\n",
    "print(\"Negative Instances (= Instance with no answers)\")\n",
    "print(\"-------------------------\")\n",
    "print(\"Train_na:\" , train_na.shape)\n",
    "print(\"Val_na:\", val_na.shape)\n",
    "print(\"Test_na:\", test_na.shape)\n",
    "print()\n",
    "\n",
    "print(\"Total addresses\")\n",
    "print(\"---------------\")\n",
    "print(\"Train:\", len(train.orig_id.unique()))\n",
    "print(\"Val:\", len(val.orig_id.unique()))\n",
    "print(\"Test:\", len(test.orig_id.unique()))\n",
    "print()\n",
    "\n",
    "print(\"Negative Addresses (= addresses with no answers)\")\n",
    "print(\"-------------------------\")\n",
    "print(\"Train:\", len(train_na.orig_id.unique()))\n",
    "print(\"Val:\", len(val_na.orig_id.unique()))\n",
    "print(\"Test:\", len(test_na.orig_id.unique()))\n",
    "print()"
   ]
  },
  {
   "cell_type": "markdown",
   "id": "bc475327",
   "metadata": {},
   "source": [
    "## Search for duplicates"
   ]
  },
  {
   "cell_type": "code",
   "execution_count": null,
   "id": "0216960f",
   "metadata": {},
   "outputs": [],
   "source": [
    "import pandas as pd\n",
    "\n",
    "ADDITION = \"-na\"\n",
    "NAME = \"crawl\""
   ]
  },
  {
   "cell_type": "code",
   "execution_count": null,
   "id": "b89f55c0",
   "metadata": {},
   "outputs": [],
   "source": [
    "%%time\n",
    "train_path = f\"{NAME}{ADDITION}/{NAME}{ADDITION}-train.jsonl\"\n",
    "val_path = f\"{NAME}{ADDITION}/{NAME}{ADDITION}-val.jsonl\"\n",
    "test_path = f\"{NAME}{ADDITION}/{NAME}{ADDITION}-test.jsonl\"\n",
    "\n",
    "train = pd.read_json(path_or_buf=train_path, lines=True)\n",
    "val = pd.read_json(path_or_buf=val_path, lines=True)\n",
    "test = pd.read_json(path_or_buf=test_path, lines=True)"
   ]
  },
  {
   "cell_type": "code",
   "execution_count": null,
   "id": "1511c18f",
   "metadata": {},
   "outputs": [],
   "source": [
    "alldft = train.append(val)\n",
    "alldf = alldft.append(test)\n",
    "alltext = alldf[[\"context\"]]\n",
    "alltext_unique = alltext.drop_duplicates()\n",
    "alltext_unique[\"length\"] = alltext_unique.apply(lambda row: len(row.context), axis=1)\n",
    "alltext_unique.sort_values(by=\"length\")\n",
    "\n",
    "traintext = train[[\"context\"]]\n",
    "traintext_unique = traintext.drop_duplicates()\n",
    "\n",
    "valtext = val[[\"context\"]]\n",
    "valtext_unique = valtext.drop_duplicates()\n",
    "\n",
    "testtext = test[[\"context\"]]\n",
    "testtext_unique = testtext.drop_duplicates()\n",
    "\n",
    "print(traintext_unique.shape[0] + valtext_unique.shape[0] + testtext_unique.shape[0])\n",
    "\n",
    "tmp = traintext_unique.append(valtext_unique)\n",
    "combined_text = tmp.append(testtext_unique)\n",
    "\n",
    "\n",
    "new = alltext_unique.append(combined_text)\n",
    "new[\"length\"] = new.apply(lambda row: len(row.context), axis=1)\n",
    "new.drop_duplicates()"
   ]
  },
  {
   "cell_type": "code",
   "execution_count": null,
   "id": "f92f0ca9",
   "metadata": {},
   "outputs": [],
   "source": [
    "new.drop_duplicates().sort_values(by=\"length\")"
   ]
  },
  {
   "cell_type": "code",
   "execution_count": null,
   "id": "77f2943e",
   "metadata": {},
   "outputs": [],
   "source": [
    "combined_text.context.isin(alltext_unique.context).value_counts()"
   ]
  },
  {
   "cell_type": "markdown",
   "id": "2fedc33b",
   "metadata": {},
   "source": [
    "## Language distribution"
   ]
  },
  {
   "cell_type": "code",
   "execution_count": null,
   "id": "ee228cc3",
   "metadata": {},
   "outputs": [],
   "source": [
    "import json\n",
    "import pandas as pd\n",
    "from tqdm import tqdm\n",
    "\n",
    "ADDITION = \"-na\"\n",
    "NAME = \"crawl\"\n",
    "\n",
    "train_path = f\"{NAME}{ADDITION}/{NAME}{ADDITION}-train.jsonl\"\n",
    "train = pd.read_json(path_or_buf=train_path, lines=True)\n",
    "print(train.shape)"
   ]
  },
  {
   "cell_type": "code",
   "execution_count": null,
   "id": "071abd3b",
   "metadata": {},
   "outputs": [],
   "source": [
    "%%time\n",
    "with open(\"testcases.json\", \"r\") as f:\n",
    "    testcases = json.load(f)\n",
    "    if NAME.lower() == \"crawl\":\n",
    "        testcases = [tc for tc in testcases if tc[\"source\"] == \"CRAWL\"]\n",
    "    else:\n",
    "        testcases = [tc for tc in testcases if tc[\"source\"] in [\"CRAWL\", \"EMAIL\", \"GRAB\", \"SCAN\"]]\n",
    "    print(len(testcases))"
   ]
  },
  {
   "cell_type": "code",
   "execution_count": null,
   "id": "37cfe256",
   "metadata": {},
   "outputs": [],
   "source": [
    "%%time\n",
    "\n",
    "tqdm.pandas()\n",
    "\n",
    "# match country codes to instances\n",
    "langs = {tc[\"id\"]: tc[\"country_code\"] for tc in testcases}\n",
    "\n",
    "def match_country(orig_id, langs):\n",
    "    return langs[orig_id]\n",
    "\n",
    "train[\"country\"] = train.progress_apply(lambda row: match_country(row.orig_id, langs), axis=1)    "
   ]
  },
  {
   "cell_type": "code",
   "execution_count": null,
   "id": "e2467544",
   "metadata": {},
   "outputs": [],
   "source": [
    "print(\"Number of different countries:\", len(train.country.value_counts()))\n",
    "print(\"Sum of the instances:\", train.country.value_counts().sum())\n",
    "print(\"------\")\n",
    "train.country.value_counts()[:10]"
   ]
  },
  {
   "cell_type": "code",
   "execution_count": null,
   "id": "19729894",
   "metadata": {},
   "outputs": [],
   "source": [
    "train = train[train.country != \"\"]\n",
    "train.country.value_counts()[:10].plot(kind=\"bar\")"
   ]
  },
  {
   "cell_type": "markdown",
   "id": "e58252dd",
   "metadata": {},
   "source": [
    "## Position of address blocks within imprints of the crawl-na-train"
   ]
  },
  {
   "cell_type": "code",
   "execution_count": null,
   "id": "43a0811e",
   "metadata": {},
   "outputs": [],
   "source": [
    "import pandas as pd\n",
    "import numpy as np"
   ]
  },
  {
   "cell_type": "code",
   "execution_count": null,
   "id": "fd6b72c7",
   "metadata": {},
   "outputs": [],
   "source": [
    "%%time\n",
    "train = pd.read_json(path_or_buf=f\"../data/crawl-na/crawl-na-train.jsonl\", lines=True)"
   ]
  },
  {
   "cell_type": "code",
   "execution_count": null,
   "id": "6eb1baea",
   "metadata": {},
   "outputs": [],
   "source": [
    "def get_relative_position(row):\n",
    "    context = row.context\n",
    "    fixed = row.fixed\n",
    "    \n",
    "    return context.find(fixed) / len(context)\n",
    "\n",
    "train[\"relative_position\"] = train.apply(lambda row: get_relative_position(row), axis=1)"
   ]
  },
  {
   "cell_type": "code",
   "execution_count": null,
   "id": "c3766bf1",
   "metadata": {},
   "outputs": [],
   "source": [
    "train.relative_position.median()"
   ]
  },
  {
   "cell_type": "code",
   "execution_count": null,
   "id": "087254b7",
   "metadata": {},
   "outputs": [],
   "source": [
    "train.relative_position.describe()"
   ]
  },
  {
   "cell_type": "code",
   "execution_count": null,
   "id": "8c6c6cb4",
   "metadata": {},
   "outputs": [],
   "source": [
    "np.percentile(list(dict(train.relative_position).values()), 66)"
   ]
  },
  {
   "cell_type": "code",
   "execution_count": null,
   "id": "6621a922",
   "metadata": {},
   "outputs": [],
   "source": []
  }
 ],
 "metadata": {
  "kernelspec": {
   "display_name": "Python 3 (ipykernel)",
   "language": "python",
   "name": "python3"
  },
  "language_info": {
   "codemirror_mode": {
    "name": "ipython",
    "version": 3
   },
   "file_extension": ".py",
   "mimetype": "text/x-python",
   "name": "python",
   "nbconvert_exporter": "python",
   "pygments_lexer": "ipython3",
   "version": "3.9.5"
  }
 },
 "nbformat": 4,
 "nbformat_minor": 5
}
