{
 "cells": [
  {
   "cell_type": "markdown",
   "id": "70a0bc18",
   "metadata": {},
   "source": [
    "# Plot images\n",
    "\n",
    "Notebook for plotting images."
   ]
  },
  {
   "cell_type": "code",
   "execution_count": null,
   "id": "1ee62db5",
   "metadata": {},
   "outputs": [],
   "source": [
    "import json\n",
    "import matplotlib.pyplot as plt\n",
    "import numpy as np\n",
    "import pandas as pd\n",
    "import seaborn as sns"
   ]
  },
  {
   "cell_type": "markdown",
   "id": "ea6e2fc6",
   "metadata": {},
   "source": [
    "#### helper functions"
   ]
  },
  {
   "cell_type": "code",
   "execution_count": null,
   "id": "16599bf1",
   "metadata": {
    "jupyter": {
     "source_hidden": true
    },
    "tags": []
   },
   "outputs": [],
   "source": [
    "def add_value_labels(ax, horizontal=False, spacing=5):\n",
    "    \"\"\"Add labels to the end of each bar in a bar chart.\n",
    "\n",
    "    Parameters\n",
    "    -----------\n",
    "    ax : matplotlib.axes.Axes)\n",
    "        The matplotlib object containing the axes of the plot to annotate.\n",
    "    spacing : int\n",
    "        The distance between the labels and the bars.\n",
    "    \"\"\"\n",
    "    \n",
    "    if horizontal:\n",
    "        # For each bar: Place a label\n",
    "        for rect in ax.patches:\n",
    "            # Get X and Y placement of label from rect.\n",
    "            x_value = rect.get_width()\n",
    "            y_value = rect.get_y() + rect.get_height() / 2\n",
    "\n",
    "            # Number of points between bar and label. Change to your liking.\n",
    "            space = spacing\n",
    "            # Vertical alignment for positive values\n",
    "            ha = 'left'\n",
    "\n",
    "            # If value of bar is negative: Place label left of bar\n",
    "            if x_value < 0:\n",
    "                # Invert space to place label to the left\n",
    "                space *= -1\n",
    "                # Horizontally align label at right\n",
    "                ha = 'right'\n",
    "\n",
    "            \n",
    "            label = x_value\n",
    "            # Create annotation\n",
    "            plt.annotate(\n",
    "                label,                      # Use `label` as label\n",
    "                (x_value, y_value),         # Place label at end of the bar\n",
    "                xytext=(space, 0),          # Horizontally shift label by `space`\n",
    "                textcoords=\"offset points\", # Interpret `xytext` as offset in points\n",
    "                va='center',                # Vertically center label\n",
    "                ha=ha)                      # Horizontally align label differently for\n",
    "                                            # positive and negative values.\n",
    "    else:\n",
    "\n",
    "        # For each bar: Place a label\n",
    "        for rect in ax.patches:\n",
    "            # Get X and Y placement of label from rect.\n",
    "            y_value = rect.get_height()\n",
    "            x_value = rect.get_x() + rect.get_width() / 2\n",
    "\n",
    "            # Number of points between bar and label. Change to your liking.\n",
    "            space = spacing\n",
    "            # Vertical alignment for positive values\n",
    "            va = 'bottom'\n",
    "\n",
    "            # If value of bar is negative: Place label below bar\n",
    "            if y_value < 0:\n",
    "                # Invert space to place label below\n",
    "                space *= -1\n",
    "                # Vertically align label at top\n",
    "                va = 'top'\n",
    "\n",
    "            \n",
    "            label = y_value\n",
    "\n",
    "            # Create annotation\n",
    "            ax.annotate(\n",
    "                label,                      # Use `label` as label\n",
    "                (x_value, y_value),         # Place label at end of the bar\n",
    "                xytext=(0, space),          # Vertically shift label by `space`\n",
    "                textcoords=\"offset points\", # Interpret `xytext` as offset in points\n",
    "                ha='center',                # Horizontally center label\n",
    "                va=va)                      # Vertically align label differently for\n",
    "                                            # positive and negative values."
   ]
  },
  {
   "cell_type": "markdown",
   "id": "0ffde53e",
   "metadata": {},
   "source": [
    "## Plot count of the entities"
   ]
  },
  {
   "cell_type": "markdown",
   "id": "6225d23c",
   "metadata": {},
   "source": [
    "### `expected` or `expected-na`"
   ]
  },
  {
   "cell_type": "code",
   "execution_count": null,
   "id": "604b5748",
   "metadata": {},
   "outputs": [],
   "source": [
    "na = \"-na\"\n",
    "train = pd.read_json(path_or_buf=f\"../data/expected{na}/expected{na}-train.jsonl\", lines=True)\n",
    "val = pd.read_json(path_or_buf=f\"../data/expected{na}/expected{na}-val.jsonl\", lines=True)\n",
    "test = pd.read_json(path_or_buf=f\"../data/expected{na}/expected{na}-test.jsonl\", lines=True)"
   ]
  },
  {
   "cell_type": "code",
   "execution_count": null,
   "id": "642ff905",
   "metadata": {},
   "outputs": [],
   "source": [
    "train.head()"
   ]
  },
  {
   "cell_type": "code",
   "execution_count": null,
   "id": "596c990e",
   "metadata": {},
   "outputs": [],
   "source": [
    "ax = train.question.value_counts().plot(kind=\"barh\", legend=True, figsize=(10, 6),width=0.7)\n",
    "\n",
    "plt.rcParams.update({'axes.titlesize': 'x-large'})\n",
    "plt.title(f\"Anzahl der Entitäten im Trainingdatensatz von 'new-expected{na}'\\n\\n\")\n",
    "plt.xlim([0, 40000])\n",
    "plt.gca().invert_yaxis()\n",
    "plt.legend([\"Entitäten mit Häufigkeit\"], loc=\"upper center\", bbox_to_anchor=(0.5, 1.08))\n",
    "add_value_labels(ax, horizontal=True)\n",
    "plt.savefig(f\"../misc/img/new-expected{na}-entities-count.png\", dpi=300, facecolor=\"white\")\n",
    "plt.show()"
   ]
  },
  {
   "cell_type": "code",
   "execution_count": null,
   "id": "25cce505",
   "metadata": {},
   "outputs": [],
   "source": [
    "new_train = train.copy()\n",
    "new_train[\"answer\"] = new_train.apply(lambda row: row.answers[\"text\"][0], axis=1)\n",
    "new_train = new_train[new_train.answer != \"EMPTY\"]\n",
    "\n",
    "ax = new_train.question.value_counts().plot(kind=\"barh\", legend=True, figsize=(10, 6),width=0.7)\n",
    "\n",
    "plt.rcParams.update({'axes.titlesize': 'x-large'})\n",
    "plt.title(f\"Anzahl der beantwortbaren Entitäten im Trainingdatensatz von 'new-expected{na}'\\n\")\n",
    "plt.xlim([0, 35000])\n",
    "plt.gca().invert_yaxis()\n",
    "plt.legend([\"Entitäten mit Häufigkeit\"], loc=\"lower right\")\n",
    "add_value_labels(ax, horizontal=True)\n",
    "plt.savefig(f\"../misc/img/new-expected{na}-answerable-entities-count.png\", dpi=300, facecolor=\"white\")\n",
    "plt.show()"
   ]
  },
  {
   "cell_type": "code",
   "execution_count": null,
   "id": "2c1c0208",
   "metadata": {},
   "outputs": [],
   "source": [
    "ans = new_train.shape[0]\n",
    "no_ans = train.shape[0] - ans"
   ]
  },
  {
   "cell_type": "code",
   "execution_count": null,
   "id": "b9973297",
   "metadata": {},
   "outputs": [],
   "source": [
    "no_ans / train.shape[0]"
   ]
  },
  {
   "cell_type": "code",
   "execution_count": null,
   "id": "d5ff6774",
   "metadata": {},
   "outputs": [],
   "source": [
    "new_train = train.copy()\n",
    "new_train[\"answer\"] = new_train.apply(lambda row: row.answers[\"text\"][0], axis=1)\n",
    "new_train = new_train[new_train.answer != \"EMPTY\"]"
   ]
  },
  {
   "cell_type": "code",
   "execution_count": null,
   "id": "bc175419",
   "metadata": {},
   "outputs": [],
   "source": [
    "new_train.shape"
   ]
  },
  {
   "cell_type": "code",
   "execution_count": null,
   "id": "3b54958a",
   "metadata": {},
   "outputs": [],
   "source": [
    "train.shape"
   ]
  },
  {
   "cell_type": "markdown",
   "id": "0603353f-9693-4e23-bec1-dd2ffab4bd06",
   "metadata": {},
   "source": [
    "### `crawl-na`"
   ]
  },
  {
   "cell_type": "code",
   "execution_count": null,
   "id": "68412d26-29d9-445b-b73d-9d9d929c9795",
   "metadata": {},
   "outputs": [],
   "source": [
    "na = \"-na\"\n",
    "train = pd.read_json(path_or_buf=f\"../data/crawl{na}/crawl{na}-train.jsonl\", lines=True)\n",
    "val = pd.read_json(path_or_buf=f\"../data/crawl{na}/crawl{na}-val.jsonl\", lines=True)\n",
    "test = pd.read_json(path_or_buf=f\"../data/crawl{na}/crawl{na}-test.jsonl\", lines=True)"
   ]
  },
  {
   "cell_type": "code",
   "execution_count": null,
   "id": "0e72adab-5601-4786-a486-5bbff0960c17",
   "metadata": {},
   "outputs": [],
   "source": [
    "ax = train.question.value_counts().plot(kind=\"barh\", legend=True, figsize=(10, 6),width=0.7)\n",
    "\n",
    "plt.rcParams.update({'axes.titlesize': 'x-large'})\n",
    "plt.title(f\"Anzahl der Entitäten im Trainingsdatensatz von 'crawl{na}'\\n\\n\")\n",
    "plt.xlim([0, 3200])\n",
    "plt.gca().invert_yaxis()\n",
    "#plt.legend([\"Entitäten \\nmit Häufigkeit\"], loc=\"lower right\")\n",
    "plt.legend([\"Entitäten mit Häufigkeit\"], loc=\"upper center\", bbox_to_anchor=(0.5, 1.08))\n",
    "add_value_labels(ax, horizontal=True)\n",
    "plt.savefig(f\"../misc/img/crawl{na}-entities-count.png\", dpi=300, facecolor=\"white\")\n",
    "plt.show()"
   ]
  },
  {
   "cell_type": "code",
   "execution_count": null,
   "id": "b6c523aa-5a05-4919-a27d-f82af65127f0",
   "metadata": {},
   "outputs": [],
   "source": [
    "new_train = train.copy()\n",
    "new_train[\"answer\"] = new_train.apply(lambda row: row.answers[\"text\"][0], axis=1)\n",
    "new_train = new_train[new_train.answer != \"EMPTY\"]\n",
    "\n",
    "ax = new_train.question.value_counts().plot(kind=\"barh\", legend=True, figsize=(10, 6),width=0.7)\n",
    "\n",
    "plt.rcParams.update({'axes.titlesize': 'x-large'})\n",
    "plt.title(f\"Anzahl der beantwortbaren Entitäten im Trainingsdatensatz von 'crawl{na}'\\n\")\n",
    "plt.xlim([0, 3000])\n",
    "plt.gca().invert_yaxis()\n",
    "plt.legend([\"Entitäten mit Häufigkeit\"], loc=\"lower right\")\n",
    "add_value_labels(ax, horizontal=True)\n",
    "plt.savefig(f\"../misc/img/crawl{na}-answerable-entities-count.png\", dpi=300, facecolor=\"white\")\n",
    "plt.show()"
   ]
  },
  {
   "cell_type": "markdown",
   "id": "2809a751",
   "metadata": {},
   "source": [
    "## Plot Logit Scores for QA Example"
   ]
  },
  {
   "cell_type": "code",
   "execution_count": null,
   "id": "bdcd516a",
   "metadata": {},
   "outputs": [],
   "source": [
    "import torch\n",
    "from transformers import BertForQuestionAnswering\n",
    "from transformers import BertTokenizer"
   ]
  },
  {
   "cell_type": "code",
   "execution_count": null,
   "id": "6cf2fc92",
   "metadata": {},
   "outputs": [],
   "source": [
    "%%time\n",
    "model = BertForQuestionAnswering.from_pretrained('bert-large-uncased-whole-word-masking-finetuned-squad')\n",
    "tokenizer = BertTokenizer.from_pretrained('bert-large-uncased-whole-word-masking-finetuned-squad')"
   ]
  },
  {
   "cell_type": "code",
   "execution_count": null,
   "id": "16c11576",
   "metadata": {},
   "outputs": [],
   "source": [
    "question = \"How many residents does Würzburg have?\"\n",
    "answer_text = \"\"\"\n",
    "Würzburg is a city in the traditional region of Franconia in the north of the German state of Bavaria. \n",
    "At the next-down tier of local government it is the administrative seat of Lower Franconia.\n",
    "The city has around 130000 residents.\"\"\""
   ]
  },
  {
   "cell_type": "code",
   "execution_count": null,
   "id": "d4e2d70d",
   "metadata": {},
   "outputs": [],
   "source": [
    "# Apply the tokenizer to the input text, treating them as a text-pair.\n",
    "input_ids = tokenizer.encode(question, answer_text)\n",
    "\n",
    "print('The input has a total of {:} tokens.'.format(len(input_ids)))\n",
    "\n",
    "# BERT only needs the token IDs, but for the purpose of inspecting the \n",
    "# tokenizer's behavior, let's also get the token strings and display them.\n",
    "tokens = tokenizer.convert_ids_to_tokens(input_ids)\n",
    "\n",
    "# For each token and its id...\n",
    "for token, id in zip(tokens, input_ids):\n",
    "    \n",
    "    # If this is the [SEP] token, add some space around it to make it stand out.\n",
    "    if id == tokenizer.sep_token_id:\n",
    "        print('')\n",
    "    \n",
    "    # Print the token string and its ID in two columns.\n",
    "    print('{:<12} {:>6,}'.format(token, id))\n",
    "\n",
    "    if id == tokenizer.sep_token_id:\n",
    "        print('')\n",
    "        \n",
    "# Search the input_ids for the first instance of the `[SEP]` token.\n",
    "sep_index = input_ids.index(tokenizer.sep_token_id)\n",
    "\n",
    "# The number of segment A tokens includes the [SEP] token istelf.\n",
    "num_seg_a = sep_index + 1\n",
    "\n",
    "# The remainder are segment B.\n",
    "num_seg_b = len(input_ids) - num_seg_a\n",
    "\n",
    "# Construct the list of 0s and 1s.\n",
    "segment_ids = [0]*num_seg_a + [1]*num_seg_b\n",
    "\n",
    "# There should be a segment_id for every input token.\n",
    "assert len(segment_ids) == len(input_ids)\n",
    "\n",
    "# Run our example through the model.\n",
    "outputs = model(torch.tensor([input_ids]), # The tokens representing our input text.\n",
    "                             token_type_ids=torch.tensor([segment_ids]), # The segment IDs to differentiate question from answer_text\n",
    "                             return_dict=True) \n",
    "\n",
    "start_scores = outputs.start_logits\n",
    "end_scores = outputs.end_logits\n",
    "\n",
    "# Find the tokens with the highest `start` and `end` scores.\n",
    "answer_start = torch.argmax(start_scores)\n",
    "answer_end = torch.argmax(end_scores)\n",
    "\n",
    "# Start with the first token.\n",
    "answer = tokens[answer_start]\n",
    "\n",
    "# Select the remaining answer tokens and join them with whitespace.\n",
    "for i in range(answer_start + 1, answer_end + 1):\n",
    "    \n",
    "    # If it's a subword token, then recombine it with the previous token.\n",
    "    if tokens[i][0:2] == '##':\n",
    "        answer += tokens[i][2:]\n",
    "    \n",
    "    # Otherwise, add a space then the token.\n",
    "    else:\n",
    "        answer += ' ' + tokens[i]\n",
    "\n",
    "print()\n",
    "print('Answer: \"' + answer + '\"')"
   ]
  },
  {
   "cell_type": "code",
   "execution_count": null,
   "id": "27be392c",
   "metadata": {},
   "outputs": [],
   "source": [
    "# Use plot styling from seaborn.\n",
    "sns.set_theme(style=\"whitegrid\")\n",
    "\n",
    "params = {\n",
    "    'figure.figsize': (14,20),\n",
    "    'axes.titlesize':'xx-large'\n",
    "}\n",
    "\n",
    "# Increase the plot size and font size.\n",
    "#sns.set(font_scale=1.5)\n",
    "plt.rcParams.update(params) \n",
    "\n",
    "# Pull the scores out of PyTorch Tensors and convert them to 1D numpy arrays.\n",
    "s_scores = start_scores.detach().numpy().flatten()\n",
    "e_scores = end_scores.detach().numpy().flatten()\n",
    "\n",
    "# We'll use the tokens as the x-axis labels. In order to do that, they all need\n",
    "# to be unique, so we'll add the token index to the end of each one.\n",
    "token_labels = []\n",
    "for (i, token) in enumerate(tokens):\n",
    "    token_labels.append('{:} - {:>2}'.format(token, i))"
   ]
  },
  {
   "cell_type": "markdown",
   "id": "ac3a76a9",
   "metadata": {},
   "source": [
    "## Saving figures"
   ]
  },
  {
   "cell_type": "code",
   "execution_count": null,
   "id": "2ef72f62",
   "metadata": {},
   "outputs": [],
   "source": [
    "# Create a barplot showing the start word score for all of the tokens.\n",
    "ax = sns.barplot(x=s_scores, y=token_labels, palette=\"Greens_d\", ci=None)\n",
    "\n",
    "# Turn the xlabels vertical.\n",
    "#ax.set_xticklabels(ax.get_xticklabels(), rotation=90, ha=\"center\")\n",
    "\n",
    "# Turn on the vertical grid to help align words to scores.\n",
    "ax.grid(True)\n",
    "\n",
    "plt.title('Logit-Scores der Starttokens der Voraussage\\n')\n",
    "#plt.savefig(\"../misc/img/wurzburg_start_scores.png\", dpi=600)\n",
    "plt.show()"
   ]
  },
  {
   "cell_type": "code",
   "execution_count": null,
   "id": "d322db25",
   "metadata": {},
   "outputs": [],
   "source": [
    "# Create a barplot showing the end word score for all of the tokens.\n",
    "ax = sns.barplot(x=e_scores, y=token_labels, palette=\"Reds_d\", ci=None)\n",
    "\n",
    "# Turn the xlabels vertical.\n",
    "#ax.set_xticklabels(ax.get_xticklabels(), rotation=90, ha=\"center\")\n",
    "\n",
    "# Turn on the vertical grid to help align words to scores.\n",
    "ax.grid(True)\n",
    "\n",
    "plt.title('Logit-Scores der Endtokens der Voraussage\\n')\n",
    "#plt.savefig(\"../misc/img/wurzburg_end_scores.png\", dpi=600)\n",
    "plt.show()"
   ]
  },
  {
   "cell_type": "markdown",
   "id": "a9318254",
   "metadata": {},
   "source": [
    "## Plot cross validation box plots"
   ]
  },
  {
   "cell_type": "markdown",
   "id": "072d7d48",
   "metadata": {},
   "source": [
    "### expected"
   ]
  },
  {
   "cell_type": "code",
   "execution_count": null,
   "id": "2b4ddc75",
   "metadata": {},
   "outputs": [],
   "source": [
    "f1 = [95.54, 95.38, 95.46, 95.45, 95.59]\n",
    "em = [94.43, 94.37, 94.45, 94.39, 94.57]\n",
    "\n",
    "plt.rcParams[\"figure.figsize\"] = (3,4)\n",
    "sns.boxplot(data=[f1, em])\n",
    "plt.xticks([0,1], [\"F1\", \"EM\"])\n",
    "plt.title(\"CV Verteilung \\nnew-expected-na\\n\")\n",
    "plt.savefig(f\"../misc/img/boxplot-new-expected.png\", dpi=150, facecolor=\"white\", bbox_inches='tight')\n",
    "plt.show()"
   ]
  },
  {
   "cell_type": "markdown",
   "id": "cbb4d05b",
   "metadata": {},
   "source": [
    "### crawl"
   ]
  },
  {
   "cell_type": "code",
   "execution_count": null,
   "id": "59a60876",
   "metadata": {},
   "outputs": [],
   "source": [
    "f1 = [84.55, 86.92, 86.43, 85.7, 86.2]\n",
    "em = [82.96, 85.49, 84.95, 84.2, 84.8]\n",
    "\n",
    "plt.rcParams[\"figure.figsize\"] = (3,4)\n",
    "sns.boxplot(data=[f1, em])\n",
    "plt.xticks([0,1], [\"F1\", \"EM\"])\n",
    "plt.title(\"CV Verteilung \\ncrawl-na\\n\")\n",
    "plt.savefig(f\"../misc/img/boxplot-crawl.png\", dpi=150, facecolor=\"white\", bbox_inches='tight')\n",
    "plt.show()"
   ]
  },
  {
   "cell_type": "code",
   "execution_count": null,
   "id": "b2c52f20",
   "metadata": {},
   "outputs": [],
   "source": [
    "np.mean(f1), np.mean(em)"
   ]
  },
  {
   "cell_type": "code",
   "execution_count": null,
   "id": "a5da6fa7",
   "metadata": {},
   "outputs": [],
   "source": [
    "np.std(f1), np.std(em)"
   ]
  },
  {
   "cell_type": "code",
   "execution_count": null,
   "id": "173ae46d",
   "metadata": {},
   "outputs": [],
   "source": []
  }
 ],
 "metadata": {
  "kernelspec": {
   "display_name": "Python 3 (ipykernel)",
   "language": "python",
   "name": "python3"
  },
  "language_info": {
   "codemirror_mode": {
    "name": "ipython",
    "version": 3
   },
   "file_extension": ".py",
   "mimetype": "text/x-python",
   "name": "python",
   "nbconvert_exporter": "python",
   "pygments_lexer": "ipython3",
   "version": "3.9.5"
  }
 },
 "nbformat": 4,
 "nbformat_minor": 5
}
