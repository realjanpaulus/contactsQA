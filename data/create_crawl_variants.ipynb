{
 "cells": [
  {
   "cell_type": "markdown",
   "id": "731a9e6b",
   "metadata": {},
   "source": [
    "# Create crawl variants"
   ]
  },
  {
   "cell_type": "markdown",
   "id": "f04ee5fb",
   "metadata": {},
   "source": [
    "## 1. Create crawl thin (= crawl without html noise)"
   ]
  },
  {
   "cell_type": "code",
   "execution_count": null,
   "id": "e3ecd783",
   "metadata": {},
   "outputs": [],
   "source": [
    "import json\n",
    "import numpy as np\n",
    "import pandas as pd\n",
    "\n",
    "from tqdm import tqdm"
   ]
  },
  {
   "cell_type": "code",
   "execution_count": null,
   "id": "919b7772",
   "metadata": {},
   "outputs": [],
   "source": [
    "%%time\n",
    "\n",
    "ADDITION = \"-na\"\n",
    "NAME = \"crawl\"\n",
    "train_path = f\"{NAME}{ADDITION}/{NAME}{ADDITION}-train.jsonl\"\n",
    "val_path = f\"{NAME}{ADDITION}/{NAME}{ADDITION}-val.jsonl\"\n",
    "test_path = f\"{NAME}{ADDITION}/{NAME}{ADDITION}-test.jsonl\"\n",
    "\n",
    "train = pd.read_json(path_or_buf=train_path, lines=True)\n",
    "val = pd.read_json(path_or_buf=val_path, lines=True)\n",
    "test = pd.read_json(path_or_buf=test_path, lines=True)"
   ]
  },
  {
   "cell_type": "markdown",
   "id": "aa4850bb",
   "metadata": {},
   "source": [
    "### Fixed text is the new context"
   ]
  },
  {
   "cell_type": "code",
   "execution_count": null,
   "id": "1d9a1679",
   "metadata": {},
   "outputs": [],
   "source": [
    "train = train.drop(\"context\", axis=1)\n",
    "val = val.drop(\"context\", axis=1)\n",
    "test = test.drop(\"context\", axis=1)\n",
    "\n",
    "new_train = train.rename(columns={'fixed': 'context'})\n",
    "new_val = val.rename(columns={'fixed': 'context'})\n",
    "new_test = test.rename(columns={'fixed': 'context'})"
   ]
  },
  {
   "cell_type": "code",
   "execution_count": null,
   "id": "e66c2b69",
   "metadata": {},
   "outputs": [],
   "source": [
    "new_train.head()"
   ]
  },
  {
   "cell_type": "code",
   "execution_count": null,
   "id": "afddcfb0",
   "metadata": {},
   "outputs": [],
   "source": [
    "def get_df_list(df):\n",
    "    df_list = []\n",
    "    \n",
    "    for _, row in df.iterrows():\n",
    "        answer = dict(row[\"answers\"])[\"text\"][0]\n",
    "        if answer not in row[\"context\"] and answer != \"EMPTY\":\n",
    "            print(f\"{row['id']} answer is not in context.\")\n",
    "        else:\n",
    "            if answer != \"EMPTY\":\n",
    "                new_answer_start = row[\"context\"].find(answer)\n",
    "                row[\"answers\"] = {\n",
    "                    \"text\": row[\"answers\"][\"text\"],\n",
    "                    \"answer_start\": [new_answer_start]\n",
    "                }\n",
    "                \n",
    "            df_list.append(dict(row))\n",
    "    \n",
    "    return df_list\n",
    "\n",
    "new_train_list = get_df_list(new_train)\n",
    "new_val_list = get_df_list(new_val)\n",
    "new_test_list = get_df_list(new_test)"
   ]
  },
  {
   "cell_type": "markdown",
   "id": "2667d62f",
   "metadata": {},
   "source": [
    "#### Save jsons"
   ]
  },
  {
   "cell_type": "code",
   "execution_count": null,
   "id": "1ae0df79",
   "metadata": {},
   "outputs": [],
   "source": [
    "output_dir = \"crawl-thin-na/crawl-thin-na\"\n",
    "\n",
    "with open(f\"{output_dir}-train.jsonl\", \"w\") as f:\n",
    "    for element in new_train_list:\n",
    "        f.write(json.dumps(element, ensure_ascii=False))\n",
    "        f.write(\"\\n\")\n",
    "        \n",
    "with open(f\"{output_dir}-val.jsonl\", \"w\") as f:\n",
    "    for element in new_val_list:\n",
    "        f.write(json.dumps(element, ensure_ascii=False))\n",
    "        f.write(\"\\n\")\n",
    "        \n",
    "with open(f\"{output_dir}-test.jsonl\", \"w\") as f:\n",
    "    for element in new_test_list:\n",
    "        f.write(json.dumps(element, ensure_ascii=False))\n",
    "        f.write(\"\\n\")"
   ]
  },
  {
   "cell_type": "markdown",
   "id": "b23bf874",
   "metadata": {},
   "source": [
    "## 2. Create Crawl-Synth"
   ]
  },
  {
   "cell_type": "code",
   "execution_count": null,
   "id": "03589f14",
   "metadata": {},
   "outputs": [],
   "source": [
    "import json\n",
    "import pandas as pd\n",
    "import random\n",
    "\n",
    "from tqdm import tqdm\n",
    "\n",
    "from dataset_utils import combine_splits\n",
    "\n",
    "ADDITION = \"-na\"\n",
    "NAME = \"crawl\""
   ]
  },
  {
   "cell_type": "code",
   "execution_count": null,
   "id": "9ed3d27c",
   "metadata": {},
   "outputs": [],
   "source": [
    "old_train_path = f\"{NAME}{ADDITION}/{NAME}{ADDITION}-train.jsonl\"\n",
    "old_train = pd.read_json(path_or_buf=old_train_path, lines=True)"
   ]
  },
  {
   "cell_type": "code",
   "execution_count": null,
   "id": "c5815de6",
   "metadata": {},
   "outputs": [],
   "source": [
    "combined_scans = combine_splits(\"synthetic/scan/scan\")"
   ]
  },
  {
   "cell_type": "code",
   "execution_count": null,
   "id": "54163579",
   "metadata": {},
   "outputs": [],
   "source": [
    "combined_scans.keys()"
   ]
  },
  {
   "cell_type": "code",
   "execution_count": null,
   "id": "71b7d89a",
   "metadata": {},
   "outputs": [],
   "source": [
    "only_synth_train = []\n",
    "\n",
    "with open(f\"{NAME}{ADDITION}/{NAME}{ADDITION}-synth-train-whole.jsonl\", \"r\") as f:\n",
    "    for line in tqdm(f, desc=\"Parse big jsonl\"):\n",
    "        instance = json.loads(line)\n",
    "        if instance[\"orig_id\"] in combined_scans.keys():\n",
    "            only_synth_train.append(instance)"
   ]
  },
  {
   "cell_type": "code",
   "execution_count": null,
   "id": "e5fb21b0",
   "metadata": {},
   "outputs": [],
   "source": [
    "len(only_synth_train)"
   ]
  },
  {
   "cell_type": "code",
   "execution_count": null,
   "id": "0f3e69af",
   "metadata": {},
   "outputs": [],
   "source": [
    "with open(f\"{NAME}{ADDITION}/{NAME}{ADDITION}-synth-train-only.jsonl\", \"w+\") as f:\n",
    "    for element in only_synth_train:\n",
    "        f.write(json.dumps(element, ensure_ascii=False))\n",
    "        f.write(\"\\n\")"
   ]
  },
  {
   "cell_type": "markdown",
   "id": "7dbd2fad",
   "metadata": {},
   "source": [
    "## 3. Extract crawl ids"
   ]
  },
  {
   "cell_type": "code",
   "execution_count": null,
   "id": "0fcc2ecb",
   "metadata": {},
   "outputs": [],
   "source": [
    "import json\n",
    "import pandas as pd"
   ]
  },
  {
   "cell_type": "code",
   "execution_count": null,
   "id": "3d498a03",
   "metadata": {},
   "outputs": [],
   "source": [
    "path = \"crawl-na/crawl-na\"\n",
    "train = pd.read_json(path_or_buf=f\"{path}-train.jsonl\", lines=True)\n",
    "val = pd.read_json(path_or_buf=f\"{path}-val.jsonl\", lines=True)\n",
    "test = pd.read_json(path_or_buf=f\"{path}-test.jsonl\", lines=True)\n",
    "\n",
    "all_df = train.append(val).append(test).reset_index().drop(\"index\", axis=1)"
   ]
  },
  {
   "cell_type": "code",
   "execution_count": null,
   "id": "90765312",
   "metadata": {},
   "outputs": [],
   "source": [
    "for i in test.orig_id.tolist():\n",
    "    if i in val.orig_id.tolist():\n",
    "        print(\"ja\")"
   ]
  },
  {
   "cell_type": "code",
   "execution_count": null,
   "id": "d2e9e9a5",
   "metadata": {},
   "outputs": [],
   "source": [
    "all_df.shape"
   ]
  },
  {
   "cell_type": "code",
   "execution_count": null,
   "id": "a88e623b",
   "metadata": {},
   "outputs": [],
   "source": [
    "unique_ids = sorted(set(all_df.orig_id.tolist()))"
   ]
  },
  {
   "cell_type": "code",
   "execution_count": null,
   "id": "067bb141",
   "metadata": {},
   "outputs": [],
   "source": [
    "with open(\"knowledge/type-data/dataset-ids.txt\", 'w') as output:\n",
    "    for row in unique_ids:\n",
    "        output.write(str(row) + '\\n')"
   ]
  },
  {
   "cell_type": "code",
   "execution_count": null,
   "id": "09ff23e0",
   "metadata": {},
   "outputs": [],
   "source": []
  }
 ],
 "metadata": {
  "kernelspec": {
   "display_name": "Python 3 (ipykernel)",
   "language": "python",
   "name": "python3"
  },
  "language_info": {
   "codemirror_mode": {
    "name": "ipython",
    "version": 3
   },
   "file_extension": ".py",
   "mimetype": "text/x-python",
   "name": "python",
   "nbconvert_exporter": "python",
   "pygments_lexer": "ipython3",
   "version": "3.9.5"
  }
 },
 "nbformat": 4,
 "nbformat_minor": 5
}
